{
  "nbformat": 4,
  "nbformat_minor": 0,
  "metadata": {
    "colab": {
      "name": "robotics.ipynb",
      "provenance": [],
      "collapsed_sections": [],
      "authorship_tag": "ABX9TyMiEh8H5VGb7/tQOu604C4N",
      "include_colab_link": true
    },
    "kernelspec": {
      "name": "python3",
      "display_name": "Python 3"
    }
  },
  "cells": [
    {
      "cell_type": "markdown",
      "metadata": {
        "id": "view-in-github",
        "colab_type": "text"
      },
      "source": [
        "<a href=\"https://colab.research.google.com/github/countya/ggsample02_mine/blob/master/robotics.ipynb\" target=\"_parent\"><img src=\"https://colab.research.google.com/assets/colab-badge.svg\" alt=\"Open In Colab\"/></a>"
      ]
    },
    {
      "cell_type": "code",
      "metadata": {
        "id": "bxNXMmvPcxdn",
        "colab": {
          "base_uri": "https://localhost:8080/",
          "height": 365
        },
        "outputId": "13b163f9-0b95-4d55-f424-73051a16cfa9"
      },
      "source": [
        "# -*- coding: utf-8 -*-\n",
        "import numpy as np\n",
        "from numpy import sin,cos\n",
        "import matplotlib.pyplot as plt\n",
        "# 同次変換行列(x軸方向に並進，z軸周りに回転)\n",
        "def T(l,th):\n",
        "  Ti = np.matrix((\n",
        "  (cos(th), -sin(th), l*cos(th)),\n",
        "  (sin(th), cos(th), l*sin(th)),\n",
        "  (0., 0., 1.)));\n",
        "  return Ti\n",
        "# 順運動学の計算\n",
        "def arm2_fk(l1, l2, th1, th2):\n",
        "# 原点座標（縦ベクトル）\n",
        "  vec = np.array([[0.],[0.],[1.]] );\n",
        "  # 順運動学の計算\n",
        "  (x1, y1, z1) = T(l1, th1)*vec; # 第1関節の位置\n",
        "  (x2, y2, z2) = T(l1, th1)*T(l2, th2)*vec; # 第2関節の位置\n",
        "  return x1, y1, x2, y2\n",
        "# グラフの描画\n",
        "def plot(x, y):\n",
        "  fn = \"Times New Roman\"\n",
        "  # グラフ表示の設定\n",
        "  fig = plt.figure()\n",
        "  ax = fig.add_subplot(111, facecolor=\"w\")\n",
        "  ax.tick_params(labelsize=13) # 軸のフォントサイズ\n",
        "  plt.xlabel(\"$x [m]$\", fontsize=20, fontname=fn)\n",
        "  plt.ylabel(\"$y [m]$\", fontsize=20, fontname=fn)\n",
        "  plt.plot(x, y,\"-g\",lw=5,label=\"link\") # リンクの描画\n",
        "  plt.plot(x, y,\"or\",lw=5, ms=10,label=\"joint\") # 関節の描画\n",
        "  plt.xlim(-1.2,1.2)\n",
        "  plt.ylim(-1.2,1.2)\n",
        "  plt.grid()\n",
        "  plt.legend(fontsize=20) # 凡例\n",
        "  plt.show()\n",
        "def main():\n",
        "  # 2リンクアームのパラメータ\n",
        "  (l1, l2) = (0.5, 0.5); #リンク1と2の長さ\n",
        "  (th1, th2) = np.radians((60, 30)) # 第1, 2の関節角度\n",
        "  # 順運動学の計算\n",
        "  (x1, y1, x2, y2) = arm2_fk(l1, l2, th1, th2)\n",
        "  # ロボットアームの描画\n",
        "  x = (0, x1, x2)\n",
        "  y = (0, y1, y2)\n",
        "  plot(x, y)\n",
        "if __name__ == '__main__':\n",
        "  main()"
      ],
      "execution_count": 2,
      "outputs": [
        {
          "output_type": "stream",
          "name": "stderr",
          "text": [
            "/usr/local/lib/python3.7/dist-packages/numpy/core/shape_base.py:65: VisibleDeprecationWarning: Creating an ndarray from ragged nested sequences (which is a list-or-tuple of lists-or-tuples-or ndarrays with different lengths or shapes) is deprecated. If you meant to do this, you must specify 'dtype=object' when creating the ndarray.\n",
            "  ary = asanyarray(ary)\n",
            "findfont: Font family ['Times New Roman'] not found. Falling back to DejaVu Sans.\n"
          ]
        },
        {
          "output_type": "display_data",
          "data": {
            "text/plain": [
              "<Figure size 432x288 with 1 Axes>"
            ],
            "image/png": "[encoded data removed]"
          },
          "metadata": {
            "needs_background": "light"
          }
        }
      ]
    }
  ]
}